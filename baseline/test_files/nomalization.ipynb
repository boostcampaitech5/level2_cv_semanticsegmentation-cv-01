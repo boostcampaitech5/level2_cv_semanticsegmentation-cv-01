{
 "cells": [
  {
   "cell_type": "code",
   "execution_count": 1,
   "metadata": {},
   "outputs": [],
   "source": [
    "import os\n",
    "import cv2\n",
    "import numpy as np"
   ]
  },
  {
   "cell_type": "code",
   "execution_count": 2,
   "metadata": {},
   "outputs": [],
   "source": [
    "def get_inner_files(path, extension):\n",
    "    files = {\n",
    "        os.path.relpath(os.path.join(root, fname), start=path)\n",
    "        for root, _, files in os.walk(path)\n",
    "        for fname in files\n",
    "        if os.path.splitext(fname)[1].lower() == f\".{extension}\"\n",
    "    }\n",
    "    return sorted(files)"
   ]
  },
  {
   "cell_type": "code",
   "execution_count": 3,
   "metadata": {},
   "outputs": [],
   "source": [
    "image_path = \"/opt/ml/level2_cv_semanticsegmentation-cv-01/data/train/DCM\"\n",
    "dataset = np.array(get_inner_files(image_path, \"png\"))"
   ]
  },
  {
   "cell_type": "code",
   "execution_count": 4,
   "metadata": {},
   "outputs": [],
   "source": [
    "image_means, image_stddevs = [], []\n",
    "for image in dataset:\n",
    "    image_np = cv2.imread(os.path.join(image_path, image)) / 255.0\n",
    "    \n",
    "    mean = np.mean(image_np, axis=(0, 1))\n",
    "    stddev = np.std(image_np, axis=(0, 1))\n",
    "    \n",
    "    image_means.append(mean)\n",
    "    image_stddevs.append(stddev)\n",
    "\n",
    "overall_mean = np.mean(image_means, axis=0)\n",
    "overall_stddev = np.mean(image_stddevs, axis=0)"
   ]
  },
  {
   "cell_type": "code",
   "execution_count": 5,
   "metadata": {},
   "outputs": [
    {
     "name": "stdout",
     "output_type": "stream",
     "text": [
      "평균 : [0.12099939 0.12099939 0.12099939]\n",
      "분산 : [0.16414633 0.16414633 0.16414633]\n"
     ]
    }
   ],
   "source": [
    "print(f\"평균 : {overall_mean}\\n분산 : {overall_stddev}\")"
   ]
  }
 ],
 "metadata": {
  "kernelspec": {
   "display_name": "base",
   "language": "python",
   "name": "python3"
  },
  "language_info": {
   "codemirror_mode": {
    "name": "ipython",
    "version": 3
   },
   "file_extension": ".py",
   "mimetype": "text/x-python",
   "name": "python",
   "nbconvert_exporter": "python",
   "pygments_lexer": "ipython3",
   "version": "3.8.5"
  },
  "orig_nbformat": 4
 },
 "nbformat": 4,
 "nbformat_minor": 2
}
